{
 "cells": [
  {
   "cell_type": "markdown",
   "metadata": {},
   "source": [
    "## Theory Questions:\n"
   ]
  },
  {
   "cell_type": "markdown",
   "metadata": {},
   "source": [
    "1. What is the difference between a function and a method in Python?\n",
    " > Function are independant block of reusable code like len(),. \n",
    " but the methods are functions tied to objects, such as upper(), and lower()for strings\n",
    "\n",
    "2. Explain the concept of function arguments and parameters in Python.\n",
    " > arguments are the values passed to a function during a call while parameter are the variable inthe function defination that recieve those arguments eg. def add(num) here num is parameter and print(add(5)) 5 is argument\n",
    "\n",
    "3. What are the different ways to define and call a function in Python?\n",
    " > function define using many ways like def for relular function, lambda for anonymous function *args for defualt argument and **kwargs for keyword agruments, \n",
    " and function calling with function name and its argument which is positional keword or dynamic argument.\n",
    "\n",
    "4. What is the purpose of the `return` statement in a Python function?\n",
    " > return statement return the value in specific format as function output needed \n",
    "\n",
    "5. What are iterators in Python and how do they differ from iterables?\n",
    " > iterables are the data structure in which every data can be iterated in one go eg. are string , list , sets, dictionaries etc. but iterator are basicaly the object which have iter function before it and they are iterated one by one eg. a = \"string\" iter(a)\n",
    "\n",
    "6. Explain the concept of generators in Python and how they are defined.\n",
    " > Gennerator are actually more memmory efficient  because they yield itoms one by one insted of storing themm all at once.\n",
    "\n",
    "7. What are the advantages of using generators over regular functions?\n",
    " > Generator are usefull in complex and heavy function for getting result quick. they allow lazy evaluation, making them suitable for infinite sequences or large datasets.\n",
    "\n",
    "8. What is a lambda function in Python and when is it typically used?\n",
    " > lambda is anonymous function which is used in one line of code insted of multiple line it is used in simple calculation function eg. square = lambda x: x**2\n",
    "\n",
    "9. Explain the purpose and usage of the `map()` function in Python\n",
    "> map() applies a fuction each item of an itereable and return a map object.\n",
    "\n",
    "10. What is the difference between `map()`, `reduce()`, and `filter()` functions in Python?\n",
    " > map() applies a function to all elements in an iterable.\n",
    " reduce() combines elements into a single reslt(require to import from functool)\n",
    " filter() selects elements based on a condition.\n",
    "\n"
   ]
  },
  {
   "cell_type": "markdown",
   "metadata": {},
   "source": [
    "11. Using pen & Paper write the internal mechanism for sum operation using  reduce function on this given \n",
    "list:[47,11,42,13]; \n",
    "\n",
    "![alt text](IMG_20250324_215402.jpg)\n"
   ]
  },
  {
   "cell_type": "markdown",
   "metadata": {},
   "source": [
    "## Practical Questions:"
   ]
  },
  {
   "cell_type": "code",
   "execution_count": 2,
   "metadata": {},
   "outputs": [
    {
     "name": "stdout",
     "output_type": "stream",
     "text": [
      "70\n"
     ]
    }
   ],
   "source": [
    "# 1. Write a Python function that takes a list of numbers as input and returns the sum of all even numbers in the list\n",
    "\n",
    "def sum_num(num):\n",
    "    l = []\n",
    "    s = 0\n",
    "    for i in num:\n",
    "        if i % 2 == 0:\n",
    "          s += i\n",
    "    return s \n",
    "print(sum_num([10,11,12,13,14,15,16,17,18,19]))"
   ]
  },
  {
   "cell_type": "code",
   "execution_count": 3,
   "metadata": {},
   "outputs": [
    {
     "name": "stdout",
     "output_type": "stream",
     "text": [
      "sdneirf ,olleH\n"
     ]
    }
   ],
   "source": [
    "# 2. Create a Python function that accepts a string and returns the reverse of that string.\n",
    "\n",
    "def reversed_str(strg):\n",
    "    rev_str = strg[::-1]\n",
    "    return rev_str\n",
    "\n",
    "print(reversed_str(\"Hello, friends\"))"
   ]
  },
  {
   "cell_type": "code",
   "execution_count": 4,
   "metadata": {},
   "outputs": [
    {
     "name": "stdout",
     "output_type": "stream",
     "text": [
      "[1, 4, 9, 36, 25, 49, 64, 81]\n"
     ]
    }
   ],
   "source": [
    "# 3. Implement a Python function that takes a list of integers and returns a new list containing the squares of each number.\n",
    "\n",
    "def square_n(num):\n",
    "    l = []\n",
    "    for i in num:\n",
    "        if type(i) == int:\n",
    "            l.append(i ** 2)\n",
    "    return l\n",
    "\n",
    "print(square_n([1,2,3,6,5,7,8,9]))"
   ]
  },
  {
   "cell_type": "code",
   "execution_count": 3,
   "metadata": {},
   "outputs": [
    {
     "name": "stdout",
     "output_type": "stream",
     "text": [
      "The number is prime but not in 1 - 200 \n"
     ]
    }
   ],
   "source": [
    "# 4. Write a Python function that checks if a given number is prime or not from 1 to 200.\n",
    "\n",
    "def is_prime(num):\n",
    "    if num < 2 :\n",
    "        return False\n",
    "    for i in range (2, int(num ** 0.5 + 1)):\n",
    "        if num % i == 0:\n",
    "            return False\n",
    "   \n",
    "    if 1<= num <= 200:\n",
    "        return True\n",
    "    else:\n",
    "        return \"The number is prime but not in 1 - 200 \"\n",
    "        \n",
    "print(is_prime(211))"
   ]
  },
  {
   "cell_type": "code",
   "execution_count": 4,
   "metadata": {},
   "outputs": [
    {
     "name": "stdout",
     "output_type": "stream",
     "text": [
      "0\n",
      "1\n",
      "1\n",
      "2\n",
      "3\n"
     ]
    }
   ],
   "source": [
    "#5. Create an iterator class in Python that generates the Fibonacci sequence up to a specified number of terms.\n",
    "\n",
    "def fibonaci_num(num):\n",
    "    a = 0\n",
    "    b = 1\n",
    "    for i in range (num):\n",
    "        yield a \n",
    "        a,b = b,a+b\n",
    "\n",
    "fib = fibonaci_num(5)    \n",
    "print(next(fib))\n",
    "print(next(fib))\n",
    "print(next(fib))\n",
    "print(next(fib))\n",
    "print(next(fib))\n",
    "# print(next(fib)) #this will not work end of itration\n"
   ]
  },
  {
   "cell_type": "code",
   "execution_count": 10,
   "metadata": {},
   "outputs": [
    {
     "name": "stdout",
     "output_type": "stream",
     "text": [
      "2\n",
      "4\n",
      "8\n"
     ]
    }
   ],
   "source": [
    "# 6. Write a generator function in Python that yields the powers of 2 up to a given exponent.\n",
    "def gen_func(exponent):\n",
    "    for i in range (1,exponent+1):\n",
    "        yield 2 ** i\n",
    "\n",
    "g = gen_func(3)\n",
    "print(next(g))\n",
    "print(next(g))\n",
    "print(next(g))"
   ]
  },
  {
   "cell_type": "code",
   "execution_count": null,
   "metadata": {},
   "outputs": [
    {
     "name": "stdout",
     "output_type": "stream",
     "text": [
      "Hello my name is pratham\n",
      "my age is 21\n",
      "my city is pune\n"
     ]
    },
    {
     "ename": "StopIteration",
     "evalue": "",
     "output_type": "error",
     "traceback": [
      "\u001b[1;31m---------------------------------------------------------------------------\u001b[0m",
      "\u001b[1;31mStopIteration\u001b[0m                             Traceback (most recent call last)",
      "Cell \u001b[1;32mIn[12], line 14\u001b[0m\n\u001b[0;32m     12\u001b[0m \u001b[38;5;28mprint\u001b[39m(\u001b[38;5;28mnext\u001b[39m(a))\n\u001b[0;32m     13\u001b[0m \u001b[38;5;28mprint\u001b[39m(\u001b[38;5;28mnext\u001b[39m(a))\n\u001b[1;32m---> 14\u001b[0m \u001b[38;5;28mprint\u001b[39m(\u001b[38;5;28;43mnext\u001b[39;49m\u001b[43m(\u001b[49m\u001b[43ma\u001b[49m\u001b[43m)\u001b[49m)\n",
      "\u001b[1;31mStopIteration\u001b[0m: "
     ]
    }
   ],
   "source": [
    "# 7. Implement a generator function that reads a file line by line and yields each line as a string\n",
    "def read_lines(text):\n",
    "    for line in text.splitlines():\n",
    "        yield line.strip()  \n",
    "\n",
    "a = read_lines(\"\"\" Hello my name is pratham\n",
    "               my age is 21\n",
    "               my city is pune\n",
    "\"\"\")\n",
    "\n",
    "print(next(a))\n",
    "print(next(a))\n",
    "print(next(a))"
   ]
  },
  {
   "cell_type": "code",
   "execution_count": 13,
   "metadata": {},
   "outputs": [
    {
     "name": "stdout",
     "output_type": "stream",
     "text": [
      "[(5, 0), (4, 1), (2, 2), (1, 3)]\n"
     ]
    }
   ],
   "source": [
    "# 8. Use a lambda function in Python to sort a list of tuples based on the second element of each tuple.\n",
    "\n",
    "l = [(1, 3), (4, 1), (2, 2), (5, 0)]\n",
    "sorted_list = sorted(l, key=lambda x: x[1])\n",
    "print(sorted_list)"
   ]
  },
  {
   "cell_type": "code",
   "execution_count": 16,
   "metadata": {},
   "outputs": [
    {
     "name": "stdout",
     "output_type": "stream",
     "text": [
      "[59.0, 86.0, 113.0, 203.0]\n"
     ]
    }
   ],
   "source": [
    "# 9. Write a Python program that uses `map()` to convert a list of temperatures from Celsius to Fahrenheit.\n",
    "\n",
    "def celsius_to_fahrenheit(celsius_temp):\n",
    "    return (celsius_temp * 9/5) + 32\n",
    "\n",
    "a = list(map(celsius_to_fahrenheit,[15,30,45,95]))\n",
    "print(a)"
   ]
  },
  {
   "cell_type": "code",
   "execution_count": 5,
   "metadata": {},
   "outputs": [
    {
     "name": "stdout",
     "output_type": "stream",
     "text": [
      "Original string: Hello, World!\n",
      "String after removing vowels: Hll, Wrld!\n"
     ]
    }
   ],
   "source": [
    "#10 Create a Python program that uses  to remove all the vowels from a given string\n",
    "\n",
    "def remove_vowels(input_string):\n",
    "    vowels = 'aeiouAEIOU'\n",
    "    # Using filter() to keep only non-vowel characters\n",
    "    result = ''.join(filter(lambda char: char not in vowels, input_string))\n",
    "    return result\n",
    "\n",
    "# Example usage\n",
    "given_string = \"Hello, World!\"\n",
    "filtered_string = remove_vowels(given_string)\n",
    "print(\"Original string:\", given_string)\n",
    "print(\"String after removing vowels:\", filtered_string)"
   ]
  },
  {
   "cell_type": "code",
   "execution_count": null,
   "metadata": {},
   "outputs": [
    {
     "name": "stdout",
     "output_type": "stream",
     "text": [
      "Processed Orders: [(34587, 163.8), (98762, 284.0), (77226, 108.85000000000001), (88112, 84.97)]\n"
     ]
    }
   ],
   "source": [
    "# 11) Imagine an accounting routine used in a book shop. It works on a list with sublists, which look like this:\n",
    "# Write a Python program, which returns a list with 2-tuples. Each tuple consists of the order number and the \n",
    "#product of the price per item and the quantity. The product should be increased by 10,- € if the value of the \n",
    "#order is smaller than 100,00 €. Write a Python program using lambda and map.\n",
    "\n",
    "\n",
    "# Input data\n",
    "order_number = [34587, 98762, 77226, 88112]\n",
    "book_title_author = [\n",
    "    \"Learning Python, Mark Lutz\", \n",
    "    \"Programming Python, Mark Lutz\", \n",
    "    \"Head First Python, Paul Barry\", \n",
    "    \"Einfuehrung in Python 3, Bernd Klein\"\n",
    "]\n",
    "quantity = [4, 5, 3, 3]\n",
    "price_per_item = [40.95, 56.80, 32.95, 24.99]\n",
    "\n",
    "orders = list(zip(order_number, quantity, price_per_item))\n",
    "\n",
    "processed_orders = list(\n",
    "    map(\n",
    "        lambda order: (order[0], order[1] * order[2] + (10 if order[1] * order[2] < 100 else 0)),\n",
    "        orders\n",
    "    )\n",
    ")\n",
    "\n",
    "print(\"Processed Orders:\", processed_orders)\n"
   ]
  },
  {
   "cell_type": "code",
   "execution_count": null,
   "metadata": {},
   "outputs": [],
   "source": []
  }
 ],
 "metadata": {
  "kernelspec": {
   "display_name": "Python 3",
   "language": "python",
   "name": "python3"
  },
  "language_info": {
   "codemirror_mode": {
    "name": "ipython",
    "version": 3
   },
   "file_extension": ".py",
   "mimetype": "text/x-python",
   "name": "python",
   "nbconvert_exporter": "python",
   "pygments_lexer": "ipython3",
   "version": "3.13.2"
  }
 },
 "nbformat": 4,
 "nbformat_minor": 2
}
